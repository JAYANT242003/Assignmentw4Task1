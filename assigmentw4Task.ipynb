{
 "cells": [
  {
   "cell_type": "code",
   "execution_count": null,
   "id": "b50adf0c-15e5-41cf-8c2f-bf52959e8f5f",
   "metadata": {},
   "outputs": [],
   "source": [
    "Q1."
   ]
  },
  {
   "cell_type": "code",
   "execution_count": 2,
   "id": "d7b1d288-f35d-4152-b2b9-b9367199b69b",
   "metadata": {},
   "outputs": [],
   "source": [
    "class car:\n",
    "    def __init__(self, name_of_vehicle, max_speed, average_of_vehicle):\n",
    "        self.__name_of_vehicle = name_of_vehicle\n",
    "        self.__max_speed = max_speed\n",
    "        self.__average_of_vehicle = average_of_vehicle\n",
    "        "
   ]
  },
  {
   "cell_type": "code",
   "execution_count": 3,
   "id": "d1fb8e2c-e2b4-4987-9186-b6444e705f6e",
   "metadata": {},
   "outputs": [],
   "source": [
    "c = car(\"Defender\",200,34.55)"
   ]
  },
  {
   "cell_type": "code",
   "execution_count": 5,
   "id": "650688bd-9721-4cda-bfad-f119d99b480c",
   "metadata": {},
   "outputs": [
    {
     "data": {
      "text/plain": [
       "'Defender'"
      ]
     },
     "execution_count": 5,
     "metadata": {},
     "output_type": "execute_result"
    }
   ],
   "source": [
    "c._car__name_of_vehicle"
   ]
  },
  {
   "cell_type": "code",
   "execution_count": 7,
   "id": "2961a1d5-8e4b-44b0-a6f4-119bf811218f",
   "metadata": {},
   "outputs": [
    {
     "data": {
      "text/plain": [
       "200"
      ]
     },
     "execution_count": 7,
     "metadata": {},
     "output_type": "execute_result"
    }
   ],
   "source": [
    "c._car__max_speed"
   ]
  },
  {
   "cell_type": "code",
   "execution_count": 9,
   "id": "1c8ac493-330c-437e-a148-6de85d30de5b",
   "metadata": {},
   "outputs": [
    {
     "data": {
      "text/plain": [
       "34.55"
      ]
     },
     "execution_count": 9,
     "metadata": {},
     "output_type": "execute_result"
    }
   ],
   "source": [
    "c._car__average_of_vehicle"
   ]
  },
  {
   "cell_type": "code",
   "execution_count": null,
   "id": "c4fd8862-b071-4631-8545-dee034968685",
   "metadata": {},
   "outputs": [],
   "source": []
  },
  {
   "cell_type": "code",
   "execution_count": null,
   "id": "18a68661-9070-4550-9021-82f0e6a80967",
   "metadata": {},
   "outputs": [],
   "source": []
  },
  {
   "cell_type": "code",
   "execution_count": null,
   "id": "049ea468-6e1d-428e-8fda-4834269e674c",
   "metadata": {},
   "outputs": [],
   "source": [
    "Q2."
   ]
  },
  {
   "cell_type": "code",
   "execution_count": 30,
   "id": "abfb3e35-4723-4a99-a1d7-3492a5f57f8c",
   "metadata": {},
   "outputs": [
    {
     "name": "stdout",
     "output_type": "stream",
     "text": [
      "The Defender has a seating capacity of 4.\n"
     ]
    }
   ],
   "source": [
    "class Vehicle:\n",
    "    def __init__(self, name_of_vehicle, max_speed):\n",
    "        self.name_of_vehicle = name_of_vehicle\n",
    "        self.max_speed = max_speed\n",
    "\n",
    "class Car(Vehicle):\n",
    "    def __init__(self, name_of_vehicle, max_speed, average_of_vehicle):\n",
    "        self.name_of_vehicle = name_of_vehicle\n",
    "        self.max_speed = max_speed\n",
    "        self.average_of_vehicle = average_of_vehicle\n",
    "\n",
    "    def seating_capacity(self, capacity):\n",
    "        return f\"The {self.name_of_vehicle} has a seating capacity of {capacity}.\"\n",
    "\n",
    "car1 = Car(\"Defender\", 200, 5)\n",
    "print(car1.seating_capacity(4))\n",
    "\n",
    "\n"
   ]
  },
  {
   "cell_type": "code",
   "execution_count": null,
   "id": "fad0599b-e534-4d61-93d9-b8fb9968f5d0",
   "metadata": {},
   "outputs": [],
   "source": []
  },
  {
   "cell_type": "code",
   "execution_count": null,
   "id": "a4528985-8ece-4359-a690-d466da91298d",
   "metadata": {},
   "outputs": [],
   "source": []
  },
  {
   "cell_type": "code",
   "execution_count": null,
   "id": "6ff23118-ae82-4cd4-bd92-fd12cc39bb0c",
   "metadata": {},
   "outputs": [],
   "source": [
    "Q3."
   ]
  },
  {
   "cell_type": "code",
   "execution_count": null,
   "id": "7da1b111-f772-46c1-8c3c-7f0ad03fab0e",
   "metadata": {},
   "outputs": [],
   "source": [
    "when class3 (parant class) inherites the attributes from class1, class2 (child class). this concept of inheitence is known as multiple inheritance."
   ]
  },
  {
   "cell_type": "code",
   "execution_count": 48,
   "id": "61a0fecb-c8c9-4fdf-b706-cbc30f3c592e",
   "metadata": {},
   "outputs": [],
   "source": [
    "class class1():\n",
    "    def test_class1(self):\n",
    "        return\"I am writing code for practice\"\n",
    "    \n",
    "class class2():\n",
    "    def test_class2(self):\n",
    "        return\"this is an example of multiple inheritance\"\n",
    "    \n",
    "    \n",
    "class class3(class1, class2):\n",
    "    pass\n",
    "        "
   ]
  },
  {
   "cell_type": "code",
   "execution_count": 49,
   "id": "65ccec69-94d8-471e-a1c6-d1dc27f64e13",
   "metadata": {},
   "outputs": [],
   "source": [
    "obj_class3 = class3()"
   ]
  },
  {
   "cell_type": "code",
   "execution_count": 50,
   "id": "fdd90da8-0ee9-4761-a27a-888104421df5",
   "metadata": {},
   "outputs": [
    {
     "data": {
      "text/plain": [
       "'I am writing code for practice'"
      ]
     },
     "execution_count": 50,
     "metadata": {},
     "output_type": "execute_result"
    }
   ],
   "source": [
    "obj_class3.test_class1()"
   ]
  },
  {
   "cell_type": "code",
   "execution_count": 52,
   "id": "825908af-3706-4a5d-a404-daf43544edf7",
   "metadata": {},
   "outputs": [
    {
     "data": {
      "text/plain": [
       "'this is an example of multiple inheritance'"
      ]
     },
     "execution_count": 52,
     "metadata": {},
     "output_type": "execute_result"
    }
   ],
   "source": [
    "obj_class3.test_class2()"
   ]
  },
  {
   "cell_type": "code",
   "execution_count": null,
   "id": "245ff81d-6e37-4ce1-9937-487eff76b917",
   "metadata": {},
   "outputs": [],
   "source": []
  },
  {
   "cell_type": "code",
   "execution_count": null,
   "id": "a57b2ff5-3c77-4cb9-8f9c-26bf09f2f379",
   "metadata": {},
   "outputs": [],
   "source": []
  },
  {
   "cell_type": "code",
   "execution_count": null,
   "id": "f5d6f95a-9e3f-41ae-a0f2-206bd6f58502",
   "metadata": {},
   "outputs": [],
   "source": [
    "Q4.getter and setter methods are used to control access to the attributes of a class. They allow to get and change the values of private attributes. "
   ]
  },
  {
   "cell_type": "code",
   "execution_count": 20,
   "id": "d97369da-4b0e-40d4-b36b-01c3fad82e65",
   "metadata": {},
   "outputs": [],
   "source": [
    "class car():\n",
    "    def __init__(self, car_name, car_average):\n",
    "        self.car_name = car_name\n",
    "        self.car_average = car_average\n",
    "        \n",
    "        \n",
    "    @property\n",
    "    def car_average_access(self) : \n",
    "        return self.car_average    \n",
    "       \n",
    "    @car_average_access.getter\n",
    "    def car_average_get(self, average):\n",
    "        return self.average\n",
    "        \n",
    "    @car_average_access.setter\n",
    "    def car_average_set(self, average):\n",
    "        if average >= 50 :\n",
    "            pass\n",
    "        else:\n",
    "            self.car_average = average"
   ]
  },
  {
   "cell_type": "code",
   "execution_count": 10,
   "id": "fbe51c7a-3ad4-49ca-a5b4-c83a9cfee0f6",
   "metadata": {},
   "outputs": [],
   "source": [
    "a1 = car(\"Defender\", 50)"
   ]
  },
  {
   "cell_type": "code",
   "execution_count": 11,
   "id": "c63f3b21-f275-446a-8415-286aba430b62",
   "metadata": {},
   "outputs": [
    {
     "data": {
      "text/plain": [
       "'Defender'"
      ]
     },
     "execution_count": 11,
     "metadata": {},
     "output_type": "execute_result"
    }
   ],
   "source": [
    "a1.car_name"
   ]
  },
  {
   "cell_type": "code",
   "execution_count": 12,
   "id": "1ecf53ba-4975-44e8-88f5-c545afb23ea3",
   "metadata": {},
   "outputs": [
    {
     "data": {
      "text/plain": [
       "50"
      ]
     },
     "execution_count": 12,
     "metadata": {},
     "output_type": "execute_result"
    }
   ],
   "source": [
    "a1.car_average"
   ]
  },
  {
   "cell_type": "code",
   "execution_count": 21,
   "id": "16caf8b0-0b48-4cf8-800d-b1bec6d86fe3",
   "metadata": {},
   "outputs": [
    {
     "data": {
      "text/plain": [
       "50"
      ]
     },
     "execution_count": 21,
     "metadata": {},
     "output_type": "execute_result"
    }
   ],
   "source": [
    "a1.car_average"
   ]
  },
  {
   "cell_type": "code",
   "execution_count": null,
   "id": "5d419d66-1e0a-4da9-8686-8807fb8d5acc",
   "metadata": {},
   "outputs": [],
   "source": []
  },
  {
   "cell_type": "code",
   "execution_count": null,
   "id": "930dcbd3-efcf-44b5-8c49-72efe3fc7a18",
   "metadata": {},
   "outputs": [],
   "source": []
  },
  {
   "cell_type": "code",
   "execution_count": null,
   "id": "935bd031-7d18-40b1-9700-a7cf5825896c",
   "metadata": {},
   "outputs": [],
   "source": [
    "Q5."
   ]
  },
  {
   "cell_type": "code",
   "execution_count": null,
   "id": "01d0594f-ff83-407b-9676-038453aa3204",
   "metadata": {},
   "outputs": [],
   "source": [
    "overriding in Python occurs when a subclass provides its own implementation of a method that is already defined in its parent class. The overriding method in the subclass has the same name, parameters, and return type as the method in the parent class."
   ]
  },
  {
   "cell_type": "code",
   "execution_count": 24,
   "id": "6bc12193-64e6-4574-885a-246969192018",
   "metadata": {},
   "outputs": [],
   "source": [
    "class Animal:\n",
    "    def make_sound(self):\n",
    "        print(\"The animal makes a sound.\")\n",
    "\n",
    "class Dog(Animal):\n",
    "    def make_sound(self):\n",
    "        print(\"The dog barks.\")\n",
    "\n",
    "class Cat(Animal):\n",
    "    def make_sound(self):\n",
    "        print(\"The cat meows.\")\n"
   ]
  },
  {
   "cell_type": "code",
   "execution_count": 25,
   "id": "f195260d-a2ce-4e16-b2ec-7adec7f160ab",
   "metadata": {},
   "outputs": [],
   "source": [
    "a = Animal()\n",
    "d = Dog()\n",
    "c = Cat()"
   ]
  },
  {
   "cell_type": "code",
   "execution_count": 27,
   "id": "408f2a0c-523b-4b1a-8335-0c6284c69dc2",
   "metadata": {},
   "outputs": [
    {
     "name": "stdout",
     "output_type": "stream",
     "text": [
      "The animal makes a sound.\n",
      "The dog barks.\n",
      "The cat meows.\n"
     ]
    }
   ],
   "source": [
    "a.make_sound()\n",
    "d.make_sound()\n",
    "c.make_sound()"
   ]
  },
  {
   "cell_type": "code",
   "execution_count": null,
   "id": "837f102a-38aa-4a33-bf53-91efc7041624",
   "metadata": {},
   "outputs": [],
   "source": []
  }
 ],
 "metadata": {
  "kernelspec": {
   "display_name": "Python 3 (ipykernel)",
   "language": "python",
   "name": "python3"
  },
  "language_info": {
   "codemirror_mode": {
    "name": "ipython",
    "version": 3
   },
   "file_extension": ".py",
   "mimetype": "text/x-python",
   "name": "python",
   "nbconvert_exporter": "python",
   "pygments_lexer": "ipython3",
   "version": "3.10.8"
  }
 },
 "nbformat": 4,
 "nbformat_minor": 5
}
